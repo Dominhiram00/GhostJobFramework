{
  "cells": [
    {
      "cell_type": "markdown",
      "metadata": {
        "id": "wUYEYxWXyAr0"
      },
      "source": [
        "# Ghost Job Feature Framework\n",
        "\n",
        "\n"
      ]
    },
    {
      "cell_type": "markdown",
      "metadata": {
        "id": "9MM8Iv4Q1x1c"
      },
      "source": [
        "Proposed by Hiram Dominguez from the University of North Texas\n",
        "\n",
        "Advised by Hadiseh Gooran\n",
        "\n",
        "Link to [official academic work](https://docs.google.com/document/d/1lgGbkDKvrhyGfhmyij2xtaNTgYWtkt0g/edit?usp=sharing&ouid=111604924284039846725&rtpof=true&sd=true)"
      ]
    },
    {
      "cell_type": "markdown",
      "metadata": {
        "id": "MYFuIH912BnL"
      },
      "source": [
        "#Introduction"
      ]
    },
    {
      "cell_type": "markdown",
      "metadata": {
        "id": "8D8vzN2U2E1N"
      },
      "source": [
        "This notebook is dedicated on displaying accuracy results on detecting ghost jobs by adding these three features into any dataset such as Kaggle Fake and Real Jobs, EMSCAD, etc:\n",
        "\n",
        "\n",
        "*   Company stock prices using the yfinance library\n",
        "*   Layoff rates using Layoff.fyi\n",
        "*   Job reposts made by the same company through manual implementation\n",
        "\n",
        "These features will be trained and tested with BERT, Bi-LTSM, and other traditional NLP models.\n",
        "\n",
        "\n"
      ]
    },
    {
      "cell_type": "markdown",
      "metadata": {
        "id": "pigenWtP3NYD"
      },
      "source": [
        "#Training and Testing Methology"
      ]
    },
    {
      "cell_type": "markdown",
      "metadata": {
        "id": "JZyxQeUR3VLg"
      },
      "source": [
        "The listed features will be programmed on different cells inorder, then each dataset will be cleaned and ready to be trained and tested on the following ML models:\n",
        "\n",
        "\n",
        "1.   BERT\n",
        "2.   LTSM\n",
        "3.   Traditional NLP techniques\n",
        "\n",
        "These models will be programmed based on common programming practices that will be credited. After each testing cell there will be a graph testing ghost job accuracy and ROC.\n",
        "\n",
        "\n",
        "\n"
      ]
    },
    {
      "cell_type": "markdown",
      "metadata": {
        "id": "r40wN-DP4XGg"
      },
      "source": [
        "# Framework Setup"
      ]
    },
    {
      "cell_type": "code",
      "execution_count": null,
      "metadata": {
        "id": "-udSQnyV9qEh"
      },
      "outputs": [],
      "source": [
        "#Dataframe 'df' variable declaration\n",
        "import pandas as pd\n",
        "#Put in any csv file like Google Jobs, BD Jobs, EMSCAD, etc.\n",
        "df = pd.read_csv(\"fake_job_postings.csv\")\n",
        "df = df.sample(n=750, random_state=42)"
      ]
    },
    {
      "cell_type": "markdown",
      "metadata": {
        "id": "jD44ouYB4fMj"
      },
      "source": [
        "## Stock Prices"
      ]
    },
    {
      "cell_type": "code",
      "execution_count": null,
      "metadata": {
        "id": "uY8JiMi51Q1L"
      },
      "outputs": [],
      "source": [
        "import yfinance as yf\n",
        "\n",
        "#Tech company name-to-ticker mapping\n",
        "tech_ticker_map = {\n",
        "    \"Google\": \"GOOG\",\n",
        "    \"Alphabet\": \"GOOG\",\n",
        "    \"YouTube\": \"GOOG\",\n",
        "    \"Meta\": \"META\",\n",
        "    \"Facebook\": \"META\",\n",
        "    \"Instagram\": \"META\",\n",
        "    \"Amazon\": \"AMZN\",\n",
        "    \"AWS\": \"AMZN\",\n",
        "    \"Twitch\": \"AMZN\",\n",
        "    \"Microsoft\": \"MSFT\",\n",
        "    \"LinkedIn\": \"MSFT\",\n",
        "    \"Apple\": \"AAPL\",\n",
        "    \"Tesla\": \"TSLA\",\n",
        "    \"SpaceX\": \"TSLA\",\n",
        "    \"Netflix\": \"NFLX\",\n",
        "    \"NVIDIA\": \"NVDA\",\n",
        "    \"Intel\": \"INTC\",\n",
        "    \"AMD\": \"AMD\",\n",
        "    \"IBM\": \"IBM\",\n",
        "    \"Salesforce\": \"CRM\",\n",
        "    \"Oracle\": \"ORCL\",\n",
        "    \"Adobe\": \"ADBE\",\n",
        "    \"Spotify\": \"SPOT\",\n",
        "    \"Zoom\": \"ZM\",\n",
        "    \"Dropbox\": \"DBX\",\n",
        "    \"Snapchat\": \"SNAP\",\n",
        "    \"Snap Inc.\": \"SNAP\",\n",
        "    \"Twitter\": \"X\",\n",
        "    \"X\": \"X\",\n",
        "    \"Shopify\": \"SHOP\",\n",
        "    \"Uber\": \"UBER\",\n",
        "    \"Lyft\": \"LYFT\",\n",
        "    \"Pinterest\": \"PINS\",\n",
        "    \"Coinbase\": \"COIN\",\n",
        "    \"Reddit\": None,\n",
        "    \"DoorDash\": \"DASH\",\n",
        "    \"Airbnb\": \"ABNB\",\n",
        "    \"Palantir\": \"PLTR\",\n",
        "    \"Qualcomm\": \"QCOM\"\n",
        "}\n",
        "\n",
        "#Match company profile string to known tech ticker. Explain what a ticker is in Word document.\n",
        "def match_company_to_ticker(company_name, ticker_map):\n",
        "  if not isinstance(company_name, str):\n",
        "    return None\n",
        "  for company, symbol in ticker_map.items():\n",
        "    if company.lower() in company_name.lower():\n",
        "      return symbol\n",
        "  return None\n",
        "\n",
        "def get_current_stock_changes(ticker_symbol):\n",
        "  if not ticker_symbol:\n",
        "    return 0.0\n",
        "  try:\n",
        "    stock = yf.Ticker(ticker_symbol)\n",
        "    hist = stock.history(period=period)\n",
        "\n",
        "    if len(hist) < 2:\n",
        "      return 0.0\n",
        "\n",
        "    start_price = hist['Close'][0]\n",
        "    end_price = hist['Close'][-1]\n",
        "    if start_price == 0:\n",
        "      return 0.0\n",
        "\n",
        "    percent_change = ((end_price - start_price) / start_price) * 100\n",
        "    return round(percent_change, 2)\n",
        "  except:\n",
        "    return 0.0\n",
        "\n",
        "#Apply feature to dataset #Explain how this is implemented into the Kaggle Fake and Real Job dataset and others\n",
        "#Provide one source of why stock prices are not reliable by themselves in the discussion section.\n",
        "df['ticker'] = df['company_profile'].apply(lambda x: match_company_to_ticker(x, tech_ticker_map))\n",
        "df['stock_change'] = df['ticker'].apply(get_current_stock_changes)"
      ]
    },
    {
      "cell_type": "markdown",
      "metadata": {
        "id": "-RD9PJML4suT"
      },
      "source": [
        "## Layoffs"
      ]
    },
    {
      "cell_type": "code",
      "execution_count": null,
      "metadata": {
        "colab": {
          "base_uri": "https://localhost:8080/"
        },
        "id": "9tOheg2E4vr8",
        "outputId": "a8b4a82a-e4d2-4478-b908-eeaded8f344b"
      },
      "outputs": [
        {
          "name": "stdout",
          "output_type": "stream",
          "text": [
            "[INFO] cached 0 companies with reported layoffs.\n"
          ]
        }
      ],
      "source": [
        "#Explain the six step decision making process for this feature in my thesis:\n",
        "#1. Define framework work by either choosing binary flags for recent layoffs, or timestamps\n",
        "#2. Choose target sources that are scrap-friendly, frequently updated, and credible\n",
        "import requests\n",
        "from bs4 import BeautifulSoup\n",
        "import re\n",
        "import time\n",
        "\n",
        "tech_ticker_map = {\n",
        "    \"Google\": \"Google\",\n",
        "    \"Alphabet\": \"Google\",\n",
        "    \"YouTube\": \"Google\",\n",
        "    \"Meta\": \"Meta\",\n",
        "    \"Facebook\": \"Meta\",\n",
        "    \"Instagram\": \"Meta\",\n",
        "    \"Amazon\": \"Amazon\",\n",
        "    \"AWS\": \"Amazon\",\n",
        "    \"Microsoft\": \"Microsoft\",\n",
        "    \"LinkedIn\": \"Microsoft\",\n",
        "    \"Apple\": \"Apple\",\n",
        "    \"Netflix\": \"Netflix\",\n",
        "    \"Tesla\": \"Tesla\",\n",
        "    \"SpaceX\": \"Tesla\",\n",
        "    \"Salesforce\": \"Salesforce\",\n",
        "    \"IBM\": \"IBM\",\n",
        "    \"Oracle\": \"Oracle\",\n",
        "    \"Adobe\": \"Adobe\",\n",
        "    \"Intel\": \"Intel\",\n",
        "    \"AMD\": \"AMD\",\n",
        "    \"Spotify\": \"Spotify\",\n",
        "    \"Zoom\": \"Zoom\",\n",
        "    \"Dropbox\": \"Dropbox\",\n",
        "    \"Snapchat\": \"Snap Inc.\",\n",
        "    \"Snap Inc.\": \"Snap Inc.\",\n",
        "    \"Twitter\": \"X\",\n",
        "    \"X\": \"X\",\n",
        "    \"Stripe\": \"Stripe\",\n",
        "    \"Shopify\": \"Shopify\",\n",
        "    \"Uber\": \"Uber\",\n",
        "    \"Lyft\": \"Lyft\",\n",
        "    \"Pinterest\": \"Pinterest\",\n",
        "    \"Coinbase\": \"Coinbase\",\n",
        "    \"Reddit\": \"Reddit\",\n",
        "    \"DoorDash\": \"DoorDash\",\n",
        "    \"Airbnb\": \"Airbnb\",\n",
        "    \"Twitch\": \"Amazon\",\n",
        "    \"Palantir\": \"Palantir\",\n",
        "    \"NVIDIA\": \"NVIDIA\",\n",
        "    \"Qualcomm\": \"Qualcomm\"\n",
        "}\n",
        "\n",
        "#Using Layoff.fyi table and caching for research needs\n",
        "def get_layoff_company_list():\n",
        "  url = \"https://layoffs.fyi\"\n",
        "  response = requests.get(url)\n",
        "  soup = BeautifulSoup(response.text, \"html.parser\")\n",
        "\n",
        "  layoff_table = soup.find(\"table\")\n",
        "  if not layoff_table:\n",
        "    return set()\n",
        "\n",
        "  company_set = set()\n",
        "\n",
        "  rows = layoff_table.find_all(\"tr\")[1:]\n",
        "  for row in rows:\n",
        "    cols = row.find_all(\"td\")\n",
        "    if not cols:\n",
        "      continue\n",
        "    company_name = cols[0].get_text().strip()\n",
        "    company_set.add(company_name.lower())\n",
        "\n",
        "  return company_set\n",
        "\n",
        "#Match company name with dataset using alias map\n",
        "def get_layoff_flag(company_name, alias_map, layoff_set):\n",
        "  if not isinstance(company_name, str):\n",
        "    return 0\n",
        "\n",
        "  for alias, layoffs_name in alias_map.items():\n",
        "    if alias.lower() in company_name.lower():\n",
        "      return int(layoffs_name.lower() in layoff_set)\n",
        "  return 0\n",
        "\n",
        "cached_layoffs = get_layoff_company_list() #Used to cache layoff data\n",
        "print(f\"[INFO] cached {len(cached_layoffs)} companies with reported layoffs.\")\n",
        "\n",
        "df['layoff_flag'] = df['company_profile'].apply(\n",
        "    lambda x: get_layoff_flag(x, tech_ticker_map, cached_layoffs)\n",
        ")"
      ]
    },
    {
      "cell_type": "markdown",
      "metadata": {
        "id": "YErJdd264wHj"
      },
      "source": [
        "## Job Reposts"
      ]
    },
    {
      "cell_type": "code",
      "execution_count": null,
      "metadata": {
        "id": "JBaaNFPz4y9a"
      },
      "outputs": [],
      "source": [
        "df['repost_freq'] = df['title'].map(df['title'].value_counts())"
      ]
    },
    {
      "cell_type": "markdown",
      "metadata": {
        "id": "1SW8Bzfj5E0C"
      },
      "source": [
        "# Data Cleaning"
      ]
    },
    {
      "cell_type": "code",
      "execution_count": null,
      "metadata": {
        "id": "C3eEWT4OCJLp"
      },
      "outputs": [],
      "source": [
        "#Custom data cleaning function\n",
        "import re\n",
        "\n",
        "custom_stopwords = [\"apply now\", \"click here\", \"job summary\", \"job description\", \"requirements include\" ]\n",
        "\n",
        "def clean_job_text(text):\n",
        "  if pd.isnull(text):\n",
        "    return \"\"\n",
        "\n",
        "    text = re.sub(r'\\s+', ' ', text)\n",
        "\n",
        "    text = re.sub(r'^\\d+$', '', text)\n",
        "\n",
        "    text = re.sub(r'<[^<>]+>', '', text)\n",
        "\n",
        "    text = re.sub(r'[^\\w\\s\\-/+#]', '', text)\n",
        "\n",
        "    text = text.lower()\n",
        "\n",
        "    for word in customer_stopwords:\n",
        "      text = text.replace(word, '')\n",
        "\n",
        "    return text.strip()"
      ]
    },
    {
      "cell_type": "code",
      "execution_count": null,
      "metadata": {
        "id": "Ow11YA9SDhoj"
      },
      "outputs": [],
      "source": [
        "fields_to_clean = ['title', 'description', 'requirements', 'company_profile', 'benefits']\n",
        "\n",
        "for col in fields_to_clean:\n",
        "    df[col] = df[col].astype(str).apply(clean_job_text)"
      ]
    },
    {
      "cell_type": "markdown",
      "metadata": {
        "id": "KxoSl1Je5R2w"
      },
      "source": [
        "## Tokenization"
      ]
    },
    {
      "cell_type": "code",
      "execution_count": null,
      "metadata": {
        "id": "E4QmAaX6pL2Q"
      },
      "outputs": [],
      "source": [
        "# Combine text fields to create a single 'text' column\n",
        "df['text'] = df[['title', 'company_profile', 'description', 'requirements', 'benefits']].fillna('').agg(' '.join, axis=1)"
      ]
    },
    {
      "cell_type": "code",
      "execution_count": null,
      "metadata": {
        "colab": {
          "base_uri": "https://localhost:8080/",
          "height": 284,
          "referenced_widgets": [
            "3e89f5961eb44ff1899ba4963a9997e4",
            "1117cd9200d74ed2a1a8aa3ef4baffc6",
            "0bdf82da501e4770b2d41abb1a5592a3",
            "a28c1f95bcc14c0880d38b5354560f4a",
            "a4f6d9f6392e465791f1a3e7f25ca506",
            "c2f28978bb004371803624eed3178eae",
            "1a11c4a3554740cabe3d2bb5ce9c8626",
            "f8d232f3060f4b8d85c9df2fa1b180d3",
            "4d2e93e6ed91420e98b703cde8504a48",
            "2cd5a8bef28141a882082e96482c0ac9",
            "c84ef44cbbf941c0b2e18f521c6b798f",
            "935213eabb7649509d094709cd26b556",
            "212d2d81d65a46a38869c4adc3457c48",
            "124b548445fe4d578ed2e35784cf6d28",
            "a6918c1126a44c39a9f4c3d07248542b",
            "a1ae8be8194a4226a01a10a65d81edb5",
            "26e158bd92794fd4baf12d695c7d506d",
            "82891502fb27431188440de043223a99",
            "6887cb51aa6747c8b7aee18ae0cbbe8d",
            "f746fef048934c7aac8d2fe357291445",
            "b4755934bc054f4bbfde3093a4cc2c08",
            "0b71c20700b64823b780827736a811d3",
            "22aea0c6ed7a45e3ba16eee33aba3a14",
            "f982cb8ababa4003b5bd81aaea7922d9",
            "90f311956c3c426085c85714c99f9040",
            "79daa260b2f448beba3ee3811c86a2a0",
            "cbfb625540e343bc984aee478671ea68",
            "8fd93fe9dd4c42d2b20f72be6409c35b",
            "37f2105d431a4328b7b07851a2a4be53",
            "a941a1dc5ed049eda438eb7bc4585453",
            "676049042dd54724a2387dda4072a3b3",
            "51e2c903a7f542ea85a802ec8a03cc64",
            "9d0c8522433444fd955f8d7f16913081",
            "1d39fda8c6994deaab7f7ac5f6e53e48",
            "25fa8db718c345e383731a6764bd982b",
            "3aaac5d18edb4ff7932e9d27de241f35",
            "5cddf5f4efd64971bf0bc079c7545a6c",
            "2acfbac759d749378a23c53d914f31c2",
            "06084ca5a31941dc993d017aadc4ef1b",
            "ade160d2e2f74a02bc4fff0b0bb24b05",
            "6f7264a44a8341b9a96171b9306b9e7c",
            "10a7fd1ccdd74e5abd726310f87455ad",
            "bc4b04ccbc984e18b0b5df3f1a93fa2d",
            "86c93a928d284cb291cf993464125d53"
          ]
        },
        "id": "UROWVs-F5UAT",
        "outputId": "0df3b642-2b3f-4f4a-f968-f5bd004ec6fe"
      },
      "outputs": [
        {
          "name": "stdout",
          "output_type": "stream",
          "text": [
            "Before cleaning: [0 1]\n",
            "After cleaning: [0 1]\n"
          ]
        },
        {
          "name": "stderr",
          "output_type": "stream",
          "text": [
            "/usr/local/lib/python3.11/dist-packages/huggingface_hub/utils/_auth.py:94: UserWarning: \n",
            "The secret `HF_TOKEN` does not exist in your Colab secrets.\n",
            "To authenticate with the Hugging Face Hub, create a token in your settings tab (https://huggingface.co/settings/tokens), set it as secret in your Google Colab and restart your session.\n",
            "You will be able to reuse this secret in all of your notebooks.\n",
            "Please note that authentication is recommended but still optional to access public models or datasets.\n",
            "  warnings.warn(\n"
          ]
        },
        {
          "data": {
            "application/vnd.jupyter.widget-view+json": {
              "model_id": "3e89f5961eb44ff1899ba4963a9997e4",
              "version_major": 2,
              "version_minor": 0
            },
            "text/plain": [
              "tokenizer_config.json:   0%|          | 0.00/48.0 [00:00<?, ?B/s]"
            ]
          },
          "metadata": {},
          "output_type": "display_data"
        },
        {
          "data": {
            "application/vnd.jupyter.widget-view+json": {
              "model_id": "935213eabb7649509d094709cd26b556",
              "version_major": 2,
              "version_minor": 0
            },
            "text/plain": [
              "vocab.txt:   0%|          | 0.00/232k [00:00<?, ?B/s]"
            ]
          },
          "metadata": {},
          "output_type": "display_data"
        },
        {
          "data": {
            "application/vnd.jupyter.widget-view+json": {
              "model_id": "22aea0c6ed7a45e3ba16eee33aba3a14",
              "version_major": 2,
              "version_minor": 0
            },
            "text/plain": [
              "tokenizer.json:   0%|          | 0.00/466k [00:00<?, ?B/s]"
            ]
          },
          "metadata": {},
          "output_type": "display_data"
        },
        {
          "data": {
            "application/vnd.jupyter.widget-view+json": {
              "model_id": "1d39fda8c6994deaab7f7ac5f6e53e48",
              "version_major": 2,
              "version_minor": 0
            },
            "text/plain": [
              "config.json:   0%|          | 0.00/570 [00:00<?, ?B/s]"
            ]
          },
          "metadata": {},
          "output_type": "display_data"
        }
      ],
      "source": [
        "from transformers import BertTokenizer\n",
        "import torch\n",
        "\n",
        "print(\"Before cleaning:\", df[\"fraudulent\"].unique())\n",
        "df = df[df[\"fraudulent\"].isin([0, 1])].copy()\n",
        "print(\"After cleaning:\", df[\"fraudulent\"].unique())\n",
        "\n",
        "def tokenize_data(df, tokenizer_name=\"bert-base-uncased\", text_column=\"text\", max_len=128):\n",
        "    tokenizer = BertTokenizer.from_pretrained(tokenizer_name)\n",
        "    tokens = tokenizer.batch_encode_plus(\n",
        "        df[text_column].tolist(),\n",
        "        max_length=max_len,\n",
        "        padding=\"max_length\",\n",
        "        truncation=True,\n",
        "        return_tensors=\"pt\"\n",
        "    )\n",
        "\n",
        "    labels = torch.tensor(df[\"fraudulent\"].values)\n",
        "    additional_features = torch.tensor(\n",
        "        df[[\"stock_change\", \"repost_freq\", \"layoff_flag\"]].fillna(0).values,\n",
        "        dtype=torch.float\n",
        "    )\n",
        "\n",
        "    return tokens['input_ids'], tokens['attention_mask'], labels, additional_features\n",
        "\n",
        "input_ids, attention_mask, labels, additional_features = tokenize_data(df)"
      ]
    },
    {
      "cell_type": "markdown",
      "metadata": {
        "id": "j9G9b0h7Qaha"
      },
      "source": [
        "##Data Loader Setup"
      ]
    },
    {
      "cell_type": "code",
      "execution_count": null,
      "metadata": {
        "id": "eN5e94k9QcpV"
      },
      "outputs": [],
      "source": [
        "from torch.utils.data import TensorDataset, DataLoader, RandomSampler, SequentialSampler\n",
        "from sklearn.model_selection import train_test_split\n",
        "\n",
        "#Split data\n",
        "train_inputs, val_inputs, train_masks, val_masks, train_labels, val_labels, train_features, val_features = train_test_split(\n",
        "    input_ids, attention_mask, labels, additional_features, test_size=0.2, random_state = 42\n",
        ")\n",
        "\n",
        "#Create TensorDatasets\n",
        "train_data = TensorDataset(train_inputs, train_masks, train_features, train_labels)\n",
        "val_data = TensorDataset(val_inputs, val_masks, val_features, val_labels)\n",
        "\n",
        "#Create DataLoaders\n",
        "train_loader = DataLoader(train_data, sampler = RandomSampler(train_data), batch_size = 4)\n",
        "val_loader = DataLoader(val_data, sampler = SequentialSampler(val_data), batch_size = 4)"
      ]
    },
    {
      "cell_type": "markdown",
      "metadata": {
        "id": "PRyT5eZU5V8T"
      },
      "source": [
        "# Models"
      ]
    },
    {
      "cell_type": "markdown",
      "metadata": {
        "id": "84VjBffF5an4"
      },
      "source": [
        "## BERT"
      ]
    },
    {
      "cell_type": "markdown",
      "metadata": {
        "id": "wNvsSMzuJM-x"
      },
      "source": [
        "###BERT Model Setup"
      ]
    },
    {
      "cell_type": "code",
      "execution_count": null,
      "metadata": {
        "id": "ufQgmuwm5bwW"
      },
      "outputs": [],
      "source": [
        "from transformers import BertModel\n",
        "import torch.nn as nn\n",
        "import torch\n",
        "\n",
        "class Bert_GJFeatures(nn.Module):\n",
        "    def __init__(self, dropout=0.3):\n",
        "        super(Bert_GJFeatures, self).__init__()\n",
        "        self.bert = BertModel.from_pretrained(\"bert-base-uncased\")\n",
        "        self.dropout = nn.Dropout(dropout)\n",
        "        self.feature_proj = nn.Linear(3, 16)  # Project ghost features to 16-dim\n",
        "        self.classifier = nn.Linear(self.bert.config.hidden_size + 16, 1)\n",
        "        self.sigmoid = nn.Sigmoid()\n",
        "\n",
        "    def forward(self, input_ids, attention_mask, GJFramework):\n",
        "      outputs = self.bert(input_ids=input_ids, attention_mask=attention_mask)\n",
        "      pooled_output = outputs.pooler_output  # shape: (batch_size, 768)\n",
        "\n",
        "      # Ensure GJFramework is 2D: (batch_size, 3)\n",
        "      if GJFramework.dim() == 1:\n",
        "        GJFramework = GJFramework.unsqueeze(0)  # shape: (1, 3)\n",
        "      elif GJFramework.size(1) != 3:\n",
        "        batch_size = GJFramework.size(0)\n",
        "        GJFramework = GJFramework.view(batch_size, -1)  # safer reshape\n",
        "\n",
        "      ghost_output = self.feature_proj(GJFramework.float())  # (batch_size, 16)\n",
        "      combined = torch.cat((pooled_output, ghost_output), dim=1)\n",
        "\n",
        "      logits = self.classifier(self.dropout(combined))\n",
        "      return self.sigmoid(logits)\n"
      ]
    },
    {
      "cell_type": "markdown",
      "metadata": {
        "id": "O-OpVhDjJPtG"
      },
      "source": [
        "###BERT Training"
      ]
    },
    {
      "cell_type": "code",
      "execution_count": null,
      "metadata": {
        "colab": {
          "background_save": true,
          "base_uri": "https://localhost:8080/",
          "height": 101,
          "referenced_widgets": [
            "fb55cfa6354544bfb7aa7f8113d8d5d4",
            "87760744428b43899e91b947190a3eca",
            "82c1f1a037994ed88fae867dd1b39c33",
            "2bcfb87bb71c4a1d9060aba6fe844cc6",
            "f1830ce212fb484d8fb916d28b02c8bc",
            "7b87026ca2b247d99288474bee4c03f2",
            "83641b8983274dc594be40722955a4c7",
            "9b8fa435e3e64df88e9a73ea71b57aad",
            "85c5ba1acabd47bb9b57835da04ba8e3",
            "638132c6d5684da6aa3cb37c4b6e06dc",
            "f879af1c077249d09b1c99f9660d2d04"
          ]
        },
        "id": "RFehO6mzJVnj",
        "outputId": "65bec0cb-4415-4d33-f1e1-b0f8a8654138"
      },
      "outputs": [
        {
          "name": "stderr",
          "output_type": "stream",
          "text": [
            "Xet Storage is enabled for this repo, but the 'hf_xet' package is not installed. Falling back to regular HTTP download. For better performance, install the package with: `pip install huggingface_hub[hf_xet]` or `pip install hf_xet`\n",
            "WARNING:huggingface_hub.file_download:Xet Storage is enabled for this repo, but the 'hf_xet' package is not installed. Falling back to regular HTTP download. For better performance, install the package with: `pip install huggingface_hub[hf_xet]` or `pip install hf_xet`\n"
          ]
        },
        {
          "data": {
            "application/vnd.jupyter.widget-view+json": {
              "model_id": "fb55cfa6354544bfb7aa7f8113d8d5d4",
              "version_major": 2,
              "version_minor": 0
            },
            "text/plain": [
              "model.safetensors:   0%|          | 0.00/440M [00:00<?, ?B/s]"
            ]
          },
          "metadata": {},
          "output_type": "display_data"
        },
        {
          "name": "stderr",
          "output_type": "stream",
          "text": [
            "Epoch 1: 100%|██████████| 150/150 [15:23<00:00,  6.15s/it, loss=0.0254]\n"
          ]
        },
        {
          "name": "stdout",
          "output_type": "stream",
          "text": [
            "Epoch [1/3] - Avg Loss: 0.2234\n"
          ]
        },
        {
          "name": "stderr",
          "output_type": "stream",
          "text": [
            "Epoch 2: 100%|██████████| 150/150 [15:13<00:00,  6.09s/it, loss=0.0677]\n"
          ]
        },
        {
          "name": "stdout",
          "output_type": "stream",
          "text": [
            "Epoch [2/3] - Avg Loss: 0.1990\n"
          ]
        },
        {
          "name": "stderr",
          "output_type": "stream",
          "text": [
            "Epoch 3: 100%|██████████| 150/150 [15:12<00:00,  6.08s/it, loss=0.0547]"
          ]
        },
        {
          "name": "stdout",
          "output_type": "stream",
          "text": [
            "Epoch [3/3] - Avg Loss: 0.1985\n"
          ]
        },
        {
          "name": "stderr",
          "output_type": "stream",
          "text": [
            "\n"
          ]
        }
      ],
      "source": [
        "from torch.optim import AdamW\n",
        "from tqdm import tqdm\n",
        "\n",
        "#Device Setup\n",
        "device = torch.device(\"cuda\" if torch.cuda.is_available() else \"cpu\")\n",
        "\n",
        "#Start model\n",
        "model = Bert_GJFeatures().to(device)\n",
        "\n",
        "#Define loss and optimzer\n",
        "criterion = nn.BCELoss()\n",
        "optimizer = AdamW(model.parameters(), lr=2e-5, eps=1e-8)\n",
        "\n",
        "#Training Parameters\n",
        "epochs = 3\n",
        "\n",
        "for epoch in range(epochs):\n",
        "  model.train()\n",
        "  total_loss = 0\n",
        "  loop = tqdm(train_loader, leave = True)\n",
        "\n",
        "  for batch in loop:\n",
        "    input_ids, attention_mask, ghost_features, labels = [x.to(device) for x in batch]\n",
        "\n",
        "    optimizer.zero_grad()\n",
        "    outputs = model(input_ids, attention_mask, ghost_features).squeeze()\n",
        "    loss = criterion(outputs, labels.float())\n",
        "    loss.backward()\n",
        "    optimizer.step()\n",
        "\n",
        "    total_loss += loss.item()\n",
        "    loop.set_description(f\"Epoch {epoch+1}\")\n",
        "    loop.set_postfix(loss = loss.item())\n",
        "\n",
        "  avg_loss = total_loss / len(train_loader)\n",
        "  print(f\"Epoch [{epoch+1}/{epochs}] - Avg Loss: {avg_loss:.4f}\")"
      ]
    },
    {
      "cell_type": "markdown",
      "metadata": {
        "id": "VNCU4SC3JTgv"
      },
      "source": [
        "### BERT Testing"
      ]
    },
    {
      "cell_type": "code",
      "execution_count": null,
      "metadata": {
        "colab": {
          "background_save": true
        },
        "id": "tjy29l4RJTOS",
        "outputId": "af293298-1382-454f-fff7-ff357dcfd198"
      },
      "outputs": [
        {
          "name": "stderr",
          "output_type": "stream",
          "text": [
            "Evaluating! Please wait!: 100%|██████████| 38/38 [01:02<00:00,  1.64s/it]\n"
          ]
        },
        {
          "name": "stdout",
          "output_type": "stream",
          "text": [
            "Unique values in labels: [0 1 2 8]\n",
            "Unique values in preds: [0]\n",
            "\n",
            "Evaluation Metrics:\n",
            "Accuracy:  0.7467\n",
            "Precision: 0.1867\n",
            "Recall:    0.2500\n",
            "F1 Score:  0.2137\n",
            "\n",
            "2x2 Confusion Matrix (Real vs. Ghost):\n",
            "[[112   0]\n",
            " [ 34   0]]\n"
          ]
        },
        {
          "data": {
            "image/png": "[encoded data removed]",
            "text/plain": [
              "<Figure size 600x500 with 2 Axes>"
            ]
          },
          "metadata": {},
          "output_type": "display_data"
        },
        {
          "name": "stderr",
          "output_type": "stream",
          "text": [
            "<ipython-input-13-29d1692b5570>:75: FutureWarning: \n",
            "\n",
            "Passing `palette` without assigning `hue` is deprecated and will be removed in v0.14.0. Assign the `x` variable to `hue` and set `legend=False` for the same effect.\n",
            "\n",
            "  sns.barplot(x=metrics, y=values, palette='viridis')\n"
          ]
        },
        {
          "data": {
            "image/png": "[encoded data removed]",
            "text/plain": [
              "<Figure size 800x500 with 1 Axes>"
            ]
          },
          "metadata": {},
          "output_type": "display_data"
        }
      ],
      "source": [
        "from sklearn.metrics import accuracy_score, precision_score, recall_score, f1_score, confusion_matrix, ConfusionMatrixDisplay\n",
        "import torch\n",
        "from tqdm import tqdm\n",
        "import matplotlib.pyplot as plt\n",
        "import seaborn as sns\n",
        "import numpy as np\n",
        "\n",
        "model.eval()\n",
        "\n",
        "all_preds = []\n",
        "all_labels = []\n",
        "\n",
        "with torch.no_grad():\n",
        "    for batch in tqdm(val_loader, desc=\"Evaluating! Please wait!\"):\n",
        "        input_ids, attention_masks, labels, ghost_features = [x.to(device) for x in batch]\n",
        "\n",
        "        batch_size = input_ids.size(0)\n",
        "        ghost_features = ghost_features.view(batch_size, -1)\n",
        "\n",
        "        if ghost_features.size(1) > 3:\n",
        "            ghost_features = ghost_features[:, :3]\n",
        "        elif ghost_features.size(1) < 3:\n",
        "            pad_size = 3 - ghost_features.size(1)\n",
        "            ghost_features = torch.cat([ghost_features, torch.zeros((batch_size, pad_size)).to(device)], dim=1)\n",
        "\n",
        "        outputs = model(input_ids, attention_masks, ghost_features.float()).view(-1)\n",
        "        preds = (outputs > 0.5).view(-1)\n",
        "        labels = labels.view(-1)[:preds.shape[0]]\n",
        "\n",
        "        all_preds.extend(preds.cpu().view(-1).numpy())\n",
        "        all_labels.extend(labels.cpu().view(-1).numpy())\n",
        "\n",
        "# Final prediction arrays\n",
        "all_preds = np.array(all_preds).astype(int).flatten()\n",
        "all_labels = np.array(all_labels).astype(int).flatten()\n",
        "\n",
        "print(\"Unique values in labels:\", np.unique(all_labels))\n",
        "print(\"Unique values in preds:\", np.unique(all_preds))\n",
        "\n",
        "# Metric calculations\n",
        "accuracy = accuracy_score(all_labels, all_preds)\n",
        "precision = precision_score(all_labels, all_preds, average='macro', zero_division=0)\n",
        "recall = recall_score(all_labels, all_preds, average='macro', zero_division=0)\n",
        "f1 = f1_score(all_labels, all_preds, average='macro', zero_division=0)\n",
        "\n",
        "print(f\"\\nEvaluation Metrics:\")\n",
        "print(f\"Accuracy:  {accuracy:.4f}\")\n",
        "print(f\"Precision: {precision:.4f}\")\n",
        "print(f\"Recall:    {recall:.4f}\")\n",
        "print(f\"F1 Score:  {f1:.4f}\")\n",
        "\n",
        "#============\n",
        "# 2x2 Confusion Matrix (Real vs. Ghost)\n",
        "#============\n",
        "cm = confusion_matrix(all_labels, all_preds, labels=[0, 1])\n",
        "print(\"\\n2x2 Confusion Matrix (Real vs. Ghost):\")\n",
        "print(cm)\n",
        "\n",
        "disp = ConfusionMatrixDisplay(confusion_matrix=cm, display_labels=[\"Real\", \"Ghost\"])\n",
        "fig, ax = plt.subplots(figsize=(6, 5))\n",
        "disp.plot(ax=ax, cmap='Blues', values_format='d')\n",
        "plt.title(\"2x2 Confusion Matrix: Real vs. Ghost Jobs\")\n",
        "plt.xlabel(\"Predicted Label\")\n",
        "plt.ylabel(\"True Label\")\n",
        "plt.grid(False)\n",
        "plt.show()\n",
        "\n",
        "#=========\n",
        "# Bar Chart for Metrics\n",
        "#=========\n",
        "metrics = ['Accuracy', 'Precision', 'Recall', 'F1 Score']\n",
        "values = [accuracy, precision, recall, f1]\n",
        "\n",
        "plt.figure(figsize=(8, 5))\n",
        "sns.barplot(x=metrics, y=values, palette='viridis')\n",
        "plt.ylim(0, 1)\n",
        "plt.title(\"Evaluation Metrics Overview\")\n",
        "for i, v in enumerate(values):\n",
        "    plt.text(i, v + 0.02, f\"{v:.2f}\", ha='center', fontsize=12)\n",
        "plt.grid(True)\n",
        "plt.show()"
      ]
    },
    {
      "cell_type": "code",
      "execution_count": null,
      "metadata": {
        "colab": {
          "background_save": true
        },
        "id": "8QuxRmQX7LtZ"
      },
      "outputs": [],
      "source": []
    }
  ],
  "metadata": {
    "colab": {
      "provenance": []
    },
    "kernelspec": {
      "display_name": "Python 3",
      "name": "python3"
    },
    "language_info": {
      "name": "python"
    },
    "widgets": {
      "application/vnd.jupyter.widget-state+json": {
        "06084ca5a31941dc993d017aadc4ef1b": {
          "model_module": "@jupyter-widgets/base",
          "model_module_version": "1.2.0",
          "model_name": "LayoutModel",
          "state": {
            "_model_module": "@jupyter-widgets/base",
            "_model_module_version": "1.2.0",
            "_model_name": "LayoutModel",
            "_view_count": null,
            "_view_module": "@jupyter-widgets/base",
            "_view_module_version": "1.2.0",
            "_view_name": "LayoutView",
            "align_content": null,
            "align_items": null,
            "align_self": null,
            "border": null,
            "bottom": null,
            "display": null,
            "flex": null,
            "flex_flow": null,
            "grid_area": null,
            "grid_auto_columns": null,
            "grid_auto_flow": null,
            "grid_auto_rows": null,
            "grid_column": null,
            "grid_gap": null,
            "grid_row": null,
            "grid_template_areas": null,
            "grid_template_columns": null,
            "grid_template_rows": null,
            "height": null,
            "justify_content": null,
            "justify_items": null,
            "left": null,
            "margin": null,
            "max_height": null,
            "max_width": null,
            "min_height": null,
            "min_width": null,
            "object_fit": null,
            "object_position": null,
            "order": null,
            "overflow": null,
            "overflow_x": null,
            "overflow_y": null,
            "padding": null,
            "right": null,
            "top": null,
            "visibility": null,
            "width": null
          }
        },
        "0b71c20700b64823b780827736a811d3": {
          "model_module": "@jupyter-widgets/controls",
          "model_module_version": "1.5.0",
          "model_name": "DescriptionStyleModel",
          "state": {
            "_model_module": "@jupyter-widgets/controls",
            "_model_module_version": "1.5.0",
            "_model_name": "DescriptionStyleModel",
            "_view_count": null,
            "_view_module": "@jupyter-widgets/base",
            "_view_module_version": "1.2.0",
            "_view_name": "StyleView",
            "description_width": ""
          }
        },
        "0bdf82da501e4770b2d41abb1a5592a3": {
          "model_module": "@jupyter-widgets/controls",
          "model_module_version": "1.5.0",
          "model_name": "FloatProgressModel",
          "state": {
            "_dom_classes": [],
            "_model_module": "@jupyter-widgets/controls",
            "_model_module_version": "1.5.0",
            "_model_name": "FloatProgressModel",
            "_view_count": null,
            "_view_module": "@jupyter-widgets/controls",
            "_view_module_version": "1.5.0",
            "_view_name": "ProgressView",
            "bar_style": "success",
            "description": "",
            "description_tooltip": null,
            "layout": "IPY_MODEL_f8d232f3060f4b8d85c9df2fa1b180d3",
            "max": 48,
            "min": 0,
            "orientation": "horizontal",
            "style": "IPY_MODEL_4d2e93e6ed91420e98b703cde8504a48",
            "value": 48
          }
        },
        "10a7fd1ccdd74e5abd726310f87455ad": {
          "model_module": "@jupyter-widgets/controls",
          "model_module_version": "1.5.0",
          "model_name": "ProgressStyleModel",
          "state": {
            "_model_module": "@jupyter-widgets/controls",
            "_model_module_version": "1.5.0",
            "_model_name": "ProgressStyleModel",
            "_view_count": null,
            "_view_module": "@jupyter-widgets/base",
            "_view_module_version": "1.2.0",
            "_view_name": "StyleView",
            "bar_color": null,
            "description_width": ""
          }
        },
        "1117cd9200d74ed2a1a8aa3ef4baffc6": {
          "model_module": "@jupyter-widgets/controls",
          "model_module_version": "1.5.0",
          "model_name": "HTMLModel",
          "state": {
            "_dom_classes": [],
            "_model_module": "@jupyter-widgets/controls",
            "_model_module_version": "1.5.0",
            "_model_name": "HTMLModel",
            "_view_count": null,
            "_view_module": "@jupyter-widgets/controls",
            "_view_module_version": "1.5.0",
            "_view_name": "HTMLView",
            "description": "",
            "description_tooltip": null,
            "layout": "IPY_MODEL_c2f28978bb004371803624eed3178eae",
            "placeholder": "​",
            "style": "IPY_MODEL_1a11c4a3554740cabe3d2bb5ce9c8626",
            "value": "tokenizer_config.json: 100%"
          }
        },
        "124b548445fe4d578ed2e35784cf6d28": {
          "model_module": "@jupyter-widgets/controls",
          "model_module_version": "1.5.0",
          "model_name": "FloatProgressModel",
          "state": {
            "_dom_classes": [],
            "_model_module": "@jupyter-widgets/controls",
            "_model_module_version": "1.5.0",
            "_model_name": "FloatProgressModel",
            "_view_count": null,
            "_view_module": "@jupyter-widgets/controls",
            "_view_module_version": "1.5.0",
            "_view_name": "ProgressView",
            "bar_style": "success",
            "description": "",
            "description_tooltip": null,
            "layout": "IPY_MODEL_6887cb51aa6747c8b7aee18ae0cbbe8d",
            "max": 231508,
            "min": 0,
            "orientation": "horizontal",
            "style": "IPY_MODEL_f746fef048934c7aac8d2fe357291445",
            "value": 231508
          }
        },
        "1a11c4a3554740cabe3d2bb5ce9c8626": {
          "model_module": "@jupyter-widgets/controls",
          "model_module_version": "1.5.0",
          "model_name": "DescriptionStyleModel",
          "state": {
            "_model_module": "@jupyter-widgets/controls",
            "_model_module_version": "1.5.0",
            "_model_name": "DescriptionStyleModel",
            "_view_count": null,
            "_view_module": "@jupyter-widgets/base",
            "_view_module_version": "1.2.0",
            "_view_name": "StyleView",
            "description_width": ""
          }
        },
        "1d39fda8c6994deaab7f7ac5f6e53e48": {
          "model_module": "@jupyter-widgets/controls",
          "model_module_version": "1.5.0",
          "model_name": "HBoxModel",
          "state": {
            "_dom_classes": [],
            "_model_module": "@jupyter-widgets/controls",
            "_model_module_version": "1.5.0",
            "_model_name": "HBoxModel",
            "_view_count": null,
            "_view_module": "@jupyter-widgets/controls",
            "_view_module_version": "1.5.0",
            "_view_name": "HBoxView",
            "box_style": "",
            "children": [
              "IPY_MODEL_25fa8db718c345e383731a6764bd982b",
              "IPY_MODEL_3aaac5d18edb4ff7932e9d27de241f35",
              "IPY_MODEL_5cddf5f4efd64971bf0bc079c7545a6c"
            ],
            "layout": "IPY_MODEL_2acfbac759d749378a23c53d914f31c2"
          }
        },
        "212d2d81d65a46a38869c4adc3457c48": {
          "model_module": "@jupyter-widgets/controls",
          "model_module_version": "1.5.0",
          "model_name": "HTMLModel",
          "state": {
            "_dom_classes": [],
            "_model_module": "@jupyter-widgets/controls",
            "_model_module_version": "1.5.0",
            "_model_name": "HTMLModel",
            "_view_count": null,
            "_view_module": "@jupyter-widgets/controls",
            "_view_module_version": "1.5.0",
            "_view_name": "HTMLView",
            "description": "",
            "description_tooltip": null,
            "layout": "IPY_MODEL_26e158bd92794fd4baf12d695c7d506d",
            "placeholder": "​",
            "style": "IPY_MODEL_82891502fb27431188440de043223a99",
            "value": "vocab.txt: 100%"
          }
        },
        "22aea0c6ed7a45e3ba16eee33aba3a14": {
          "model_module": "@jupyter-widgets/controls",
          "model_module_version": "1.5.0",
          "model_name": "HBoxModel",
          "state": {
            "_dom_classes": [],
            "_model_module": "@jupyter-widgets/controls",
            "_model_module_version": "1.5.0",
            "_model_name": "HBoxModel",
            "_view_count": null,
            "_view_module": "@jupyter-widgets/controls",
            "_view_module_version": "1.5.0",
            "_view_name": "HBoxView",
            "box_style": "",
            "children": [
              "IPY_MODEL_f982cb8ababa4003b5bd81aaea7922d9",
              "IPY_MODEL_90f311956c3c426085c85714c99f9040",
              "IPY_MODEL_79daa260b2f448beba3ee3811c86a2a0"
            ],
            "layout": "IPY_MODEL_cbfb625540e343bc984aee478671ea68"
          }
        },
        "25fa8db718c345e383731a6764bd982b": {
          "model_module": "@jupyter-widgets/controls",
          "model_module_version": "1.5.0",
          "model_name": "HTMLModel",
          "state": {
            "_dom_classes": [],
            "_model_module": "@jupyter-widgets/controls",
            "_model_module_version": "1.5.0",
            "_model_name": "HTMLModel",
            "_view_count": null,
            "_view_module": "@jupyter-widgets/controls",
            "_view_module_version": "1.5.0",
            "_view_name": "HTMLView",
            "description": "",
            "description_tooltip": null,
            "layout": "IPY_MODEL_06084ca5a31941dc993d017aadc4ef1b",
            "placeholder": "​",
            "style": "IPY_MODEL_ade160d2e2f74a02bc4fff0b0bb24b05",
            "value": "config.json: 100%"
          }
        },
        "26e158bd92794fd4baf12d695c7d506d": {
          "model_module": "@jupyter-widgets/base",
          "model_module_version": "1.2.0",
          "model_name": "LayoutModel",
          "state": {
            "_model_module": "@jupyter-widgets/base",
            "_model_module_version": "1.2.0",
            "_model_name": "LayoutModel",
            "_view_count": null,
            "_view_module": "@jupyter-widgets/base",
            "_view_module_version": "1.2.0",
            "_view_name": "LayoutView",
            "align_content": null,
            "align_items": null,
            "align_self": null,
            "border": null,
            "bottom": null,
            "display": null,
            "flex": null,
            "flex_flow": null,
            "grid_area": null,
            "grid_auto_columns": null,
            "grid_auto_flow": null,
            "grid_auto_rows": null,
            "grid_column": null,
            "grid_gap": null,
            "grid_row": null,
            "grid_template_areas": null,
            "grid_template_columns": null,
            "grid_template_rows": null,
            "height": null,
            "justify_content": null,
            "justify_items": null,
            "left": null,
            "margin": null,
            "max_height": null,
            "max_width": null,
            "min_height": null,
            "min_width": null,
            "object_fit": null,
            "object_position": null,
            "order": null,
            "overflow": null,
            "overflow_x": null,
            "overflow_y": null,
            "padding": null,
            "right": null,
            "top": null,
            "visibility": null,
            "width": null
          }
        },
        "2acfbac759d749378a23c53d914f31c2": {
          "model_module": "@jupyter-widgets/base",
          "model_module_version": "1.2.0",
          "model_name": "LayoutModel",
          "state": {
            "_model_module": "@jupyter-widgets/base",
            "_model_module_version": "1.2.0",
            "_model_name": "LayoutModel",
            "_view_count": null,
            "_view_module": "@jupyter-widgets/base",
            "_view_module_version": "1.2.0",
            "_view_name": "LayoutView",
            "align_content": null,
            "align_items": null,
            "align_self": null,
            "border": null,
            "bottom": null,
            "display": null,
            "flex": null,
            "flex_flow": null,
            "grid_area": null,
            "grid_auto_columns": null,
            "grid_auto_flow": null,
            "grid_auto_rows": null,
            "grid_column": null,
            "grid_gap": null,
            "grid_row": null,
            "grid_template_areas": null,
            "grid_template_columns": null,
            "grid_template_rows": null,
            "height": null,
            "justify_content": null,
            "justify_items": null,
            "left": null,
            "margin": null,
            "max_height": null,
            "max_width": null,
            "min_height": null,
            "min_width": null,
            "object_fit": null,
            "object_position": null,
            "order": null,
            "overflow": null,
            "overflow_x": null,
            "overflow_y": null,
            "padding": null,
            "right": null,
            "top": null,
            "visibility": null,
            "width": null
          }
        },
        "2bcfb87bb71c4a1d9060aba6fe844cc6": {
          "model_module": "@jupyter-widgets/controls",
          "model_module_version": "1.5.0",
          "model_name": "HTMLModel",
          "state": {
            "_dom_classes": [],
            "_model_module": "@jupyter-widgets/controls",
            "_model_module_version": "1.5.0",
            "_model_name": "HTMLModel",
            "_view_count": null,
            "_view_module": "@jupyter-widgets/controls",
            "_view_module_version": "1.5.0",
            "_view_name": "HTMLView",
            "description": "",
            "description_tooltip": null,
            "layout": "IPY_MODEL_638132c6d5684da6aa3cb37c4b6e06dc",
            "placeholder": "​",
            "style": "IPY_MODEL_f879af1c077249d09b1c99f9660d2d04",
            "value": " 440M/440M [00:02&lt;00:00, 229MB/s]"
          }
        },
        "2cd5a8bef28141a882082e96482c0ac9": {
          "model_module": "@jupyter-widgets/base",
          "model_module_version": "1.2.0",
          "model_name": "LayoutModel",
          "state": {
            "_model_module": "@jupyter-widgets/base",
            "_model_module_version": "1.2.0",
            "_model_name": "LayoutModel",
            "_view_count": null,
            "_view_module": "@jupyter-widgets/base",
            "_view_module_version": "1.2.0",
            "_view_name": "LayoutView",
            "align_content": null,
            "align_items": null,
            "align_self": null,
            "border": null,
            "bottom": null,
            "display": null,
            "flex": null,
            "flex_flow": null,
            "grid_area": null,
            "grid_auto_columns": null,
            "grid_auto_flow": null,
            "grid_auto_rows": null,
            "grid_column": null,
            "grid_gap": null,
            "grid_row": null,
            "grid_template_areas": null,
            "grid_template_columns": null,
            "grid_template_rows": null,
            "height": null,
            "justify_content": null,
            "justify_items": null,
            "left": null,
            "margin": null,
            "max_height": null,
            "max_width": null,
            "min_height": null,
            "min_width": null,
            "object_fit": null,
            "object_position": null,
            "order": null,
            "overflow": null,
            "overflow_x": null,
            "overflow_y": null,
            "padding": null,
            "right": null,
            "top": null,
            "visibility": null,
            "width": null
          }
        },
        "37f2105d431a4328b7b07851a2a4be53": {
          "model_module": "@jupyter-widgets/controls",
          "model_module_version": "1.5.0",
          "model_name": "DescriptionStyleModel",
          "state": {
            "_model_module": "@jupyter-widgets/controls",
            "_model_module_version": "1.5.0",
            "_model_name": "DescriptionStyleModel",
            "_view_count": null,
            "_view_module": "@jupyter-widgets/base",
            "_view_module_version": "1.2.0",
            "_view_name": "StyleView",
            "description_width": ""
          }
        },
        "3aaac5d18edb4ff7932e9d27de241f35": {
          "model_module": "@jupyter-widgets/controls",
          "model_module_version": "1.5.0",
          "model_name": "FloatProgressModel",
          "state": {
            "_dom_classes": [],
            "_model_module": "@jupyter-widgets/controls",
            "_model_module_version": "1.5.0",
            "_model_name": "FloatProgressModel",
            "_view_count": null,
            "_view_module": "@jupyter-widgets/controls",
            "_view_module_version": "1.5.0",
            "_view_name": "ProgressView",
            "bar_style": "success",
            "description": "",
            "description_tooltip": null,
            "layout": "IPY_MODEL_6f7264a44a8341b9a96171b9306b9e7c",
            "max": 570,
            "min": 0,
            "orientation": "horizontal",
            "style": "IPY_MODEL_10a7fd1ccdd74e5abd726310f87455ad",
            "value": 570
          }
        },
        "3e89f5961eb44ff1899ba4963a9997e4": {
          "model_module": "@jupyter-widgets/controls",
          "model_module_version": "1.5.0",
          "model_name": "HBoxModel",
          "state": {
            "_dom_classes": [],
            "_model_module": "@jupyter-widgets/controls",
            "_model_module_version": "1.5.0",
            "_model_name": "HBoxModel",
            "_view_count": null,
            "_view_module": "@jupyter-widgets/controls",
            "_view_module_version": "1.5.0",
            "_view_name": "HBoxView",
            "box_style": "",
            "children": [
              "IPY_MODEL_1117cd9200d74ed2a1a8aa3ef4baffc6",
              "IPY_MODEL_0bdf82da501e4770b2d41abb1a5592a3",
              "IPY_MODEL_a28c1f95bcc14c0880d38b5354560f4a"
            ],
            "layout": "IPY_MODEL_a4f6d9f6392e465791f1a3e7f25ca506"
          }
        },
        "4d2e93e6ed91420e98b703cde8504a48": {
          "model_module": "@jupyter-widgets/controls",
          "model_module_version": "1.5.0",
          "model_name": "ProgressStyleModel",
          "state": {
            "_model_module": "@jupyter-widgets/controls",
            "_model_module_version": "1.5.0",
            "_model_name": "ProgressStyleModel",
            "_view_count": null,
            "_view_module": "@jupyter-widgets/base",
            "_view_module_version": "1.2.0",
            "_view_name": "StyleView",
            "bar_color": null,
            "description_width": ""
          }
        },
        "51e2c903a7f542ea85a802ec8a03cc64": {
          "model_module": "@jupyter-widgets/base",
          "model_module_version": "1.2.0",
          "model_name": "LayoutModel",
          "state": {
            "_model_module": "@jupyter-widgets/base",
            "_model_module_version": "1.2.0",
            "_model_name": "LayoutModel",
            "_view_count": null,
            "_view_module": "@jupyter-widgets/base",
            "_view_module_version": "1.2.0",
            "_view_name": "LayoutView",
            "align_content": null,
            "align_items": null,
            "align_self": null,
            "border": null,
            "bottom": null,
            "display": null,
            "flex": null,
            "flex_flow": null,
            "grid_area": null,
            "grid_auto_columns": null,
            "grid_auto_flow": null,
            "grid_auto_rows": null,
            "grid_column": null,
            "grid_gap": null,
            "grid_row": null,
            "grid_template_areas": null,
            "grid_template_columns": null,
            "grid_template_rows": null,
            "height": null,
            "justify_content": null,
            "justify_items": null,
            "left": null,
            "margin": null,
            "max_height": null,
            "max_width": null,
            "min_height": null,
            "min_width": null,
            "object_fit": null,
            "object_position": null,
            "order": null,
            "overflow": null,
            "overflow_x": null,
            "overflow_y": null,
            "padding": null,
            "right": null,
            "top": null,
            "visibility": null,
            "width": null
          }
        },
        "5cddf5f4efd64971bf0bc079c7545a6c": {
          "model_module": "@jupyter-widgets/controls",
          "model_module_version": "1.5.0",
          "model_name": "HTMLModel",
          "state": {
            "_dom_classes": [],
            "_model_module": "@jupyter-widgets/controls",
            "_model_module_version": "1.5.0",
            "_model_name": "HTMLModel",
            "_view_count": null,
            "_view_module": "@jupyter-widgets/controls",
            "_view_module_version": "1.5.0",
            "_view_name": "HTMLView",
            "description": "",
            "description_tooltip": null,
            "layout": "IPY_MODEL_bc4b04ccbc984e18b0b5df3f1a93fa2d",
            "placeholder": "​",
            "style": "IPY_MODEL_86c93a928d284cb291cf993464125d53",
            "value": " 570/570 [00:00&lt;00:00, 21.2kB/s]"
          }
        },
        "638132c6d5684da6aa3cb37c4b6e06dc": {
          "model_module": "@jupyter-widgets/base",
          "model_module_version": "1.2.0",
          "model_name": "LayoutModel",
          "state": {
            "_model_module": "@jupyter-widgets/base",
            "_model_module_version": "1.2.0",
            "_model_name": "LayoutModel",
            "_view_count": null,
            "_view_module": "@jupyter-widgets/base",
            "_view_module_version": "1.2.0",
            "_view_name": "LayoutView",
            "align_content": null,
            "align_items": null,
            "align_self": null,
            "border": null,
            "bottom": null,
            "display": null,
            "flex": null,
            "flex_flow": null,
            "grid_area": null,
            "grid_auto_columns": null,
            "grid_auto_flow": null,
            "grid_auto_rows": null,
            "grid_column": null,
            "grid_gap": null,
            "grid_row": null,
            "grid_template_areas": null,
            "grid_template_columns": null,
            "grid_template_rows": null,
            "height": null,
            "justify_content": null,
            "justify_items": null,
            "left": null,
            "margin": null,
            "max_height": null,
            "max_width": null,
            "min_height": null,
            "min_width": null,
            "object_fit": null,
            "object_position": null,
            "order": null,
            "overflow": null,
            "overflow_x": null,
            "overflow_y": null,
            "padding": null,
            "right": null,
            "top": null,
            "visibility": null,
            "width": null
          }
        },
        "676049042dd54724a2387dda4072a3b3": {
          "model_module": "@jupyter-widgets/controls",
          "model_module_version": "1.5.0",
          "model_name": "ProgressStyleModel",
          "state": {
            "_model_module": "@jupyter-widgets/controls",
            "_model_module_version": "1.5.0",
            "_model_name": "ProgressStyleModel",
            "_view_count": null,
            "_view_module": "@jupyter-widgets/base",
            "_view_module_version": "1.2.0",
            "_view_name": "StyleView",
            "bar_color": null,
            "description_width": ""
          }
        },
        "6887cb51aa6747c8b7aee18ae0cbbe8d": {
          "model_module": "@jupyter-widgets/base",
          "model_module_version": "1.2.0",
          "model_name": "LayoutModel",
          "state": {
            "_model_module": "@jupyter-widgets/base",
            "_model_module_version": "1.2.0",
            "_model_name": "LayoutModel",
            "_view_count": null,
            "_view_module": "@jupyter-widgets/base",
            "_view_module_version": "1.2.0",
            "_view_name": "LayoutView",
            "align_content": null,
            "align_items": null,
            "align_self": null,
            "border": null,
            "bottom": null,
            "display": null,
            "flex": null,
            "flex_flow": null,
            "grid_area": null,
            "grid_auto_columns": null,
            "grid_auto_flow": null,
            "grid_auto_rows": null,
            "grid_column": null,
            "grid_gap": null,
            "grid_row": null,
            "grid_template_areas": null,
            "grid_template_columns": null,
            "grid_template_rows": null,
            "height": null,
            "justify_content": null,
            "justify_items": null,
            "left": null,
            "margin": null,
            "max_height": null,
            "max_width": null,
            "min_height": null,
            "min_width": null,
            "object_fit": null,
            "object_position": null,
            "order": null,
            "overflow": null,
            "overflow_x": null,
            "overflow_y": null,
            "padding": null,
            "right": null,
            "top": null,
            "visibility": null,
            "width": null
          }
        },
        "6f7264a44a8341b9a96171b9306b9e7c": {
          "model_module": "@jupyter-widgets/base",
          "model_module_version": "1.2.0",
          "model_name": "LayoutModel",
          "state": {
            "_model_module": "@jupyter-widgets/base",
            "_model_module_version": "1.2.0",
            "_model_name": "LayoutModel",
            "_view_count": null,
            "_view_module": "@jupyter-widgets/base",
            "_view_module_version": "1.2.0",
            "_view_name": "LayoutView",
            "align_content": null,
            "align_items": null,
            "align_self": null,
            "border": null,
            "bottom": null,
            "display": null,
            "flex": null,
            "flex_flow": null,
            "grid_area": null,
            "grid_auto_columns": null,
            "grid_auto_flow": null,
            "grid_auto_rows": null,
            "grid_column": null,
            "grid_gap": null,
            "grid_row": null,
            "grid_template_areas": null,
            "grid_template_columns": null,
            "grid_template_rows": null,
            "height": null,
            "justify_content": null,
            "justify_items": null,
            "left": null,
            "margin": null,
            "max_height": null,
            "max_width": null,
            "min_height": null,
            "min_width": null,
            "object_fit": null,
            "object_position": null,
            "order": null,
            "overflow": null,
            "overflow_x": null,
            "overflow_y": null,
            "padding": null,
            "right": null,
            "top": null,
            "visibility": null,
            "width": null
          }
        },
        "79daa260b2f448beba3ee3811c86a2a0": {
          "model_module": "@jupyter-widgets/controls",
          "model_module_version": "1.5.0",
          "model_name": "HTMLModel",
          "state": {
            "_dom_classes": [],
            "_model_module": "@jupyter-widgets/controls",
            "_model_module_version": "1.5.0",
            "_model_name": "HTMLModel",
            "_view_count": null,
            "_view_module": "@jupyter-widgets/controls",
            "_view_module_version": "1.5.0",
            "_view_name": "HTMLView",
            "description": "",
            "description_tooltip": null,
            "layout": "IPY_MODEL_51e2c903a7f542ea85a802ec8a03cc64",
            "placeholder": "​",
            "style": "IPY_MODEL_9d0c8522433444fd955f8d7f16913081",
            "value": " 466k/466k [00:00&lt;00:00, 2.59MB/s]"
          }
        },
        "7b87026ca2b247d99288474bee4c03f2": {
          "model_module": "@jupyter-widgets/base",
          "model_module_version": "1.2.0",
          "model_name": "LayoutModel",
          "state": {
            "_model_module": "@jupyter-widgets/base",
            "_model_module_version": "1.2.0",
            "_model_name": "LayoutModel",
            "_view_count": null,
            "_view_module": "@jupyter-widgets/base",
            "_view_module_version": "1.2.0",
            "_view_name": "LayoutView",
            "align_content": null,
            "align_items": null,
            "align_self": null,
            "border": null,
            "bottom": null,
            "display": null,
            "flex": null,
            "flex_flow": null,
            "grid_area": null,
            "grid_auto_columns": null,
            "grid_auto_flow": null,
            "grid_auto_rows": null,
            "grid_column": null,
            "grid_gap": null,
            "grid_row": null,
            "grid_template_areas": null,
            "grid_template_columns": null,
            "grid_template_rows": null,
            "height": null,
            "justify_content": null,
            "justify_items": null,
            "left": null,
            "margin": null,
            "max_height": null,
            "max_width": null,
            "min_height": null,
            "min_width": null,
            "object_fit": null,
            "object_position": null,
            "order": null,
            "overflow": null,
            "overflow_x": null,
            "overflow_y": null,
            "padding": null,
            "right": null,
            "top": null,
            "visibility": null,
            "width": null
          }
        },
        "82891502fb27431188440de043223a99": {
          "model_module": "@jupyter-widgets/controls",
          "model_module_version": "1.5.0",
          "model_name": "DescriptionStyleModel",
          "state": {
            "_model_module": "@jupyter-widgets/controls",
            "_model_module_version": "1.5.0",
            "_model_name": "DescriptionStyleModel",
            "_view_count": null,
            "_view_module": "@jupyter-widgets/base",
            "_view_module_version": "1.2.0",
            "_view_name": "StyleView",
            "description_width": ""
          }
        },
        "82c1f1a037994ed88fae867dd1b39c33": {
          "model_module": "@jupyter-widgets/controls",
          "model_module_version": "1.5.0",
          "model_name": "FloatProgressModel",
          "state": {
            "_dom_classes": [],
            "_model_module": "@jupyter-widgets/controls",
            "_model_module_version": "1.5.0",
            "_model_name": "FloatProgressModel",
            "_view_count": null,
            "_view_module": "@jupyter-widgets/controls",
            "_view_module_version": "1.5.0",
            "_view_name": "ProgressView",
            "bar_style": "success",
            "description": "",
            "description_tooltip": null,
            "layout": "IPY_MODEL_9b8fa435e3e64df88e9a73ea71b57aad",
            "max": 440449768,
            "min": 0,
            "orientation": "horizontal",
            "style": "IPY_MODEL_85c5ba1acabd47bb9b57835da04ba8e3",
            "value": 440449768
          }
        },
        "83641b8983274dc594be40722955a4c7": {
          "model_module": "@jupyter-widgets/controls",
          "model_module_version": "1.5.0",
          "model_name": "DescriptionStyleModel",
          "state": {
            "_model_module": "@jupyter-widgets/controls",
            "_model_module_version": "1.5.0",
            "_model_name": "DescriptionStyleModel",
            "_view_count": null,
            "_view_module": "@jupyter-widgets/base",
            "_view_module_version": "1.2.0",
            "_view_name": "StyleView",
            "description_width": ""
          }
        },
        "85c5ba1acabd47bb9b57835da04ba8e3": {
          "model_module": "@jupyter-widgets/controls",
          "model_module_version": "1.5.0",
          "model_name": "ProgressStyleModel",
          "state": {
            "_model_module": "@jupyter-widgets/controls",
            "_model_module_version": "1.5.0",
            "_model_name": "ProgressStyleModel",
            "_view_count": null,
            "_view_module": "@jupyter-widgets/base",
            "_view_module_version": "1.2.0",
            "_view_name": "StyleView",
            "bar_color": null,
            "description_width": ""
          }
        },
        "86c93a928d284cb291cf993464125d53": {
          "model_module": "@jupyter-widgets/controls",
          "model_module_version": "1.5.0",
          "model_name": "DescriptionStyleModel",
          "state": {
            "_model_module": "@jupyter-widgets/controls",
            "_model_module_version": "1.5.0",
            "_model_name": "DescriptionStyleModel",
            "_view_count": null,
            "_view_module": "@jupyter-widgets/base",
            "_view_module_version": "1.2.0",
            "_view_name": "StyleView",
            "description_width": ""
          }
        },
        "87760744428b43899e91b947190a3eca": {
          "model_module": "@jupyter-widgets/controls",
          "model_module_version": "1.5.0",
          "model_name": "HTMLModel",
          "state": {
            "_dom_classes": [],
            "_model_module": "@jupyter-widgets/controls",
            "_model_module_version": "1.5.0",
            "_model_name": "HTMLModel",
            "_view_count": null,
            "_view_module": "@jupyter-widgets/controls",
            "_view_module_version": "1.5.0",
            "_view_name": "HTMLView",
            "description": "",
            "description_tooltip": null,
            "layout": "IPY_MODEL_7b87026ca2b247d99288474bee4c03f2",
            "placeholder": "​",
            "style": "IPY_MODEL_83641b8983274dc594be40722955a4c7",
            "value": "model.safetensors: 100%"
          }
        },
        "8fd93fe9dd4c42d2b20f72be6409c35b": {
          "model_module": "@jupyter-widgets/base",
          "model_module_version": "1.2.0",
          "model_name": "LayoutModel",
          "state": {
            "_model_module": "@jupyter-widgets/base",
            "_model_module_version": "1.2.0",
            "_model_name": "LayoutModel",
            "_view_count": null,
            "_view_module": "@jupyter-widgets/base",
            "_view_module_version": "1.2.0",
            "_view_name": "LayoutView",
            "align_content": null,
            "align_items": null,
            "align_self": null,
            "border": null,
            "bottom": null,
            "display": null,
            "flex": null,
            "flex_flow": null,
            "grid_area": null,
            "grid_auto_columns": null,
            "grid_auto_flow": null,
            "grid_auto_rows": null,
            "grid_column": null,
            "grid_gap": null,
            "grid_row": null,
            "grid_template_areas": null,
            "grid_template_columns": null,
            "grid_template_rows": null,
            "height": null,
            "justify_content": null,
            "justify_items": null,
            "left": null,
            "margin": null,
            "max_height": null,
            "max_width": null,
            "min_height": null,
            "min_width": null,
            "object_fit": null,
            "object_position": null,
            "order": null,
            "overflow": null,
            "overflow_x": null,
            "overflow_y": null,
            "padding": null,
            "right": null,
            "top": null,
            "visibility": null,
            "width": null
          }
        },
        "90f311956c3c426085c85714c99f9040": {
          "model_module": "@jupyter-widgets/controls",
          "model_module_version": "1.5.0",
          "model_name": "FloatProgressModel",
          "state": {
            "_dom_classes": [],
            "_model_module": "@jupyter-widgets/controls",
            "_model_module_version": "1.5.0",
            "_model_name": "FloatProgressModel",
            "_view_count": null,
            "_view_module": "@jupyter-widgets/controls",
            "_view_module_version": "1.5.0",
            "_view_name": "ProgressView",
            "bar_style": "success",
            "description": "",
            "description_tooltip": null,
            "layout": "IPY_MODEL_a941a1dc5ed049eda438eb7bc4585453",
            "max": 466062,
            "min": 0,
            "orientation": "horizontal",
            "style": "IPY_MODEL_676049042dd54724a2387dda4072a3b3",
            "value": 466062
          }
        },
        "935213eabb7649509d094709cd26b556": {
          "model_module": "@jupyter-widgets/controls",
          "model_module_version": "1.5.0",
          "model_name": "HBoxModel",
          "state": {
            "_dom_classes": [],
            "_model_module": "@jupyter-widgets/controls",
            "_model_module_version": "1.5.0",
            "_model_name": "HBoxModel",
            "_view_count": null,
            "_view_module": "@jupyter-widgets/controls",
            "_view_module_version": "1.5.0",
            "_view_name": "HBoxView",
            "box_style": "",
            "children": [
              "IPY_MODEL_212d2d81d65a46a38869c4adc3457c48",
              "IPY_MODEL_124b548445fe4d578ed2e35784cf6d28",
              "IPY_MODEL_a6918c1126a44c39a9f4c3d07248542b"
            ],
            "layout": "IPY_MODEL_a1ae8be8194a4226a01a10a65d81edb5"
          }
        },
        "9b8fa435e3e64df88e9a73ea71b57aad": {
          "model_module": "@jupyter-widgets/base",
          "model_module_version": "1.2.0",
          "model_name": "LayoutModel",
          "state": {
            "_model_module": "@jupyter-widgets/base",
            "_model_module_version": "1.2.0",
            "_model_name": "LayoutModel",
            "_view_count": null,
            "_view_module": "@jupyter-widgets/base",
            "_view_module_version": "1.2.0",
            "_view_name": "LayoutView",
            "align_content": null,
            "align_items": null,
            "align_self": null,
            "border": null,
            "bottom": null,
            "display": null,
            "flex": null,
            "flex_flow": null,
            "grid_area": null,
            "grid_auto_columns": null,
            "grid_auto_flow": null,
            "grid_auto_rows": null,
            "grid_column": null,
            "grid_gap": null,
            "grid_row": null,
            "grid_template_areas": null,
            "grid_template_columns": null,
            "grid_template_rows": null,
            "height": null,
            "justify_content": null,
            "justify_items": null,
            "left": null,
            "margin": null,
            "max_height": null,
            "max_width": null,
            "min_height": null,
            "min_width": null,
            "object_fit": null,
            "object_position": null,
            "order": null,
            "overflow": null,
            "overflow_x": null,
            "overflow_y": null,
            "padding": null,
            "right": null,
            "top": null,
            "visibility": null,
            "width": null
          }
        },
        "9d0c8522433444fd955f8d7f16913081": {
          "model_module": "@jupyter-widgets/controls",
          "model_module_version": "1.5.0",
          "model_name": "DescriptionStyleModel",
          "state": {
            "_model_module": "@jupyter-widgets/controls",
            "_model_module_version": "1.5.0",
            "_model_name": "DescriptionStyleModel",
            "_view_count": null,
            "_view_module": "@jupyter-widgets/base",
            "_view_module_version": "1.2.0",
            "_view_name": "StyleView",
            "description_width": ""
          }
        },
        "a1ae8be8194a4226a01a10a65d81edb5": {
          "model_module": "@jupyter-widgets/base",
          "model_module_version": "1.2.0",
          "model_name": "LayoutModel",
          "state": {
            "_model_module": "@jupyter-widgets/base",
            "_model_module_version": "1.2.0",
            "_model_name": "LayoutModel",
            "_view_count": null,
            "_view_module": "@jupyter-widgets/base",
            "_view_module_version": "1.2.0",
            "_view_name": "LayoutView",
            "align_content": null,
            "align_items": null,
            "align_self": null,
            "border": null,
            "bottom": null,
            "display": null,
            "flex": null,
            "flex_flow": null,
            "grid_area": null,
            "grid_auto_columns": null,
            "grid_auto_flow": null,
            "grid_auto_rows": null,
            "grid_column": null,
            "grid_gap": null,
            "grid_row": null,
            "grid_template_areas": null,
            "grid_template_columns": null,
            "grid_template_rows": null,
            "height": null,
            "justify_content": null,
            "justify_items": null,
            "left": null,
            "margin": null,
            "max_height": null,
            "max_width": null,
            "min_height": null,
            "min_width": null,
            "object_fit": null,
            "object_position": null,
            "order": null,
            "overflow": null,
            "overflow_x": null,
            "overflow_y": null,
            "padding": null,
            "right": null,
            "top": null,
            "visibility": null,
            "width": null
          }
        },
        "a28c1f95bcc14c0880d38b5354560f4a": {
          "model_module": "@jupyter-widgets/controls",
          "model_module_version": "1.5.0",
          "model_name": "HTMLModel",
          "state": {
            "_dom_classes": [],
            "_model_module": "@jupyter-widgets/controls",
            "_model_module_version": "1.5.0",
            "_model_name": "HTMLModel",
            "_view_count": null,
            "_view_module": "@jupyter-widgets/controls",
            "_view_module_version": "1.5.0",
            "_view_name": "HTMLView",
            "description": "",
            "description_tooltip": null,
            "layout": "IPY_MODEL_2cd5a8bef28141a882082e96482c0ac9",
            "placeholder": "​",
            "style": "IPY_MODEL_c84ef44cbbf941c0b2e18f521c6b798f",
            "value": " 48.0/48.0 [00:00&lt;00:00, 3.97kB/s]"
          }
        },
        "a4f6d9f6392e465791f1a3e7f25ca506": {
          "model_module": "@jupyter-widgets/base",
          "model_module_version": "1.2.0",
          "model_name": "LayoutModel",
          "state": {
            "_model_module": "@jupyter-widgets/base",
            "_model_module_version": "1.2.0",
            "_model_name": "LayoutModel",
            "_view_count": null,
            "_view_module": "@jupyter-widgets/base",
            "_view_module_version": "1.2.0",
            "_view_name": "LayoutView",
            "align_content": null,
            "align_items": null,
            "align_self": null,
            "border": null,
            "bottom": null,
            "display": null,
            "flex": null,
            "flex_flow": null,
            "grid_area": null,
            "grid_auto_columns": null,
            "grid_auto_flow": null,
            "grid_auto_rows": null,
            "grid_column": null,
            "grid_gap": null,
            "grid_row": null,
            "grid_template_areas": null,
            "grid_template_columns": null,
            "grid_template_rows": null,
            "height": null,
            "justify_content": null,
            "justify_items": null,
            "left": null,
            "margin": null,
            "max_height": null,
            "max_width": null,
            "min_height": null,
            "min_width": null,
            "object_fit": null,
            "object_position": null,
            "order": null,
            "overflow": null,
            "overflow_x": null,
            "overflow_y": null,
            "padding": null,
            "right": null,
            "top": null,
            "visibility": null,
            "width": null
          }
        },
        "a6918c1126a44c39a9f4c3d07248542b": {
          "model_module": "@jupyter-widgets/controls",
          "model_module_version": "1.5.0",
          "model_name": "HTMLModel",
          "state": {
            "_dom_classes": [],
            "_model_module": "@jupyter-widgets/controls",
            "_model_module_version": "1.5.0",
            "_model_name": "HTMLModel",
            "_view_count": null,
            "_view_module": "@jupyter-widgets/controls",
            "_view_module_version": "1.5.0",
            "_view_name": "HTMLView",
            "description": "",
            "description_tooltip": null,
            "layout": "IPY_MODEL_b4755934bc054f4bbfde3093a4cc2c08",
            "placeholder": "​",
            "style": "IPY_MODEL_0b71c20700b64823b780827736a811d3",
            "value": " 232k/232k [00:00&lt;00:00, 4.41MB/s]"
          }
        },
        "a941a1dc5ed049eda438eb7bc4585453": {
          "model_module": "@jupyter-widgets/base",
          "model_module_version": "1.2.0",
          "model_name": "LayoutModel",
          "state": {
            "_model_module": "@jupyter-widgets/base",
            "_model_module_version": "1.2.0",
            "_model_name": "LayoutModel",
            "_view_count": null,
            "_view_module": "@jupyter-widgets/base",
            "_view_module_version": "1.2.0",
            "_view_name": "LayoutView",
            "align_content": null,
            "align_items": null,
            "align_self": null,
            "border": null,
            "bottom": null,
            "display": null,
            "flex": null,
            "flex_flow": null,
            "grid_area": null,
            "grid_auto_columns": null,
            "grid_auto_flow": null,
            "grid_auto_rows": null,
            "grid_column": null,
            "grid_gap": null,
            "grid_row": null,
            "grid_template_areas": null,
            "grid_template_columns": null,
            "grid_template_rows": null,
            "height": null,
            "justify_content": null,
            "justify_items": null,
            "left": null,
            "margin": null,
            "max_height": null,
            "max_width": null,
            "min_height": null,
            "min_width": null,
            "object_fit": null,
            "object_position": null,
            "order": null,
            "overflow": null,
            "overflow_x": null,
            "overflow_y": null,
            "padding": null,
            "right": null,
            "top": null,
            "visibility": null,
            "width": null
          }
        },
        "ade160d2e2f74a02bc4fff0b0bb24b05": {
          "model_module": "@jupyter-widgets/controls",
          "model_module_version": "1.5.0",
          "model_name": "DescriptionStyleModel",
          "state": {
            "_model_module": "@jupyter-widgets/controls",
            "_model_module_version": "1.5.0",
            "_model_name": "DescriptionStyleModel",
            "_view_count": null,
            "_view_module": "@jupyter-widgets/base",
            "_view_module_version": "1.2.0",
            "_view_name": "StyleView",
            "description_width": ""
          }
        },
        "b4755934bc054f4bbfde3093a4cc2c08": {
          "model_module": "@jupyter-widgets/base",
          "model_module_version": "1.2.0",
          "model_name": "LayoutModel",
          "state": {
            "_model_module": "@jupyter-widgets/base",
            "_model_module_version": "1.2.0",
            "_model_name": "LayoutModel",
            "_view_count": null,
            "_view_module": "@jupyter-widgets/base",
            "_view_module_version": "1.2.0",
            "_view_name": "LayoutView",
            "align_content": null,
            "align_items": null,
            "align_self": null,
            "border": null,
            "bottom": null,
            "display": null,
            "flex": null,
            "flex_flow": null,
            "grid_area": null,
            "grid_auto_columns": null,
            "grid_auto_flow": null,
            "grid_auto_rows": null,
            "grid_column": null,
            "grid_gap": null,
            "grid_row": null,
            "grid_template_areas": null,
            "grid_template_columns": null,
            "grid_template_rows": null,
            "height": null,
            "justify_content": null,
            "justify_items": null,
            "left": null,
            "margin": null,
            "max_height": null,
            "max_width": null,
            "min_height": null,
            "min_width": null,
            "object_fit": null,
            "object_position": null,
            "order": null,
            "overflow": null,
            "overflow_x": null,
            "overflow_y": null,
            "padding": null,
            "right": null,
            "top": null,
            "visibility": null,
            "width": null
          }
        },
        "bc4b04ccbc984e18b0b5df3f1a93fa2d": {
          "model_module": "@jupyter-widgets/base",
          "model_module_version": "1.2.0",
          "model_name": "LayoutModel",
          "state": {
            "_model_module": "@jupyter-widgets/base",
            "_model_module_version": "1.2.0",
            "_model_name": "LayoutModel",
            "_view_count": null,
            "_view_module": "@jupyter-widgets/base",
            "_view_module_version": "1.2.0",
            "_view_name": "LayoutView",
            "align_content": null,
            "align_items": null,
            "align_self": null,
            "border": null,
            "bottom": null,
            "display": null,
            "flex": null,
            "flex_flow": null,
            "grid_area": null,
            "grid_auto_columns": null,
            "grid_auto_flow": null,
            "grid_auto_rows": null,
            "grid_column": null,
            "grid_gap": null,
            "grid_row": null,
            "grid_template_areas": null,
            "grid_template_columns": null,
            "grid_template_rows": null,
            "height": null,
            "justify_content": null,
            "justify_items": null,
            "left": null,
            "margin": null,
            "max_height": null,
            "max_width": null,
            "min_height": null,
            "min_width": null,
            "object_fit": null,
            "object_position": null,
            "order": null,
            "overflow": null,
            "overflow_x": null,
            "overflow_y": null,
            "padding": null,
            "right": null,
            "top": null,
            "visibility": null,
            "width": null
          }
        },
        "c2f28978bb004371803624eed3178eae": {
          "model_module": "@jupyter-widgets/base",
          "model_module_version": "1.2.0",
          "model_name": "LayoutModel",
          "state": {
            "_model_module": "@jupyter-widgets/base",
            "_model_module_version": "1.2.0",
            "_model_name": "LayoutModel",
            "_view_count": null,
            "_view_module": "@jupyter-widgets/base",
            "_view_module_version": "1.2.0",
            "_view_name": "LayoutView",
            "align_content": null,
            "align_items": null,
            "align_self": null,
            "border": null,
            "bottom": null,
            "display": null,
            "flex": null,
            "flex_flow": null,
            "grid_area": null,
            "grid_auto_columns": null,
            "grid_auto_flow": null,
            "grid_auto_rows": null,
            "grid_column": null,
            "grid_gap": null,
            "grid_row": null,
            "grid_template_areas": null,
            "grid_template_columns": null,
            "grid_template_rows": null,
            "height": null,
            "justify_content": null,
            "justify_items": null,
            "left": null,
            "margin": null,
            "max_height": null,
            "max_width": null,
            "min_height": null,
            "min_width": null,
            "object_fit": null,
            "object_position": null,
            "order": null,
            "overflow": null,
            "overflow_x": null,
            "overflow_y": null,
            "padding": null,
            "right": null,
            "top": null,
            "visibility": null,
            "width": null
          }
        },
        "c84ef44cbbf941c0b2e18f521c6b798f": {
          "model_module": "@jupyter-widgets/controls",
          "model_module_version": "1.5.0",
          "model_name": "DescriptionStyleModel",
          "state": {
            "_model_module": "@jupyter-widgets/controls",
            "_model_module_version": "1.5.0",
            "_model_name": "DescriptionStyleModel",
            "_view_count": null,
            "_view_module": "@jupyter-widgets/base",
            "_view_module_version": "1.2.0",
            "_view_name": "StyleView",
            "description_width": ""
          }
        },
        "cbfb625540e343bc984aee478671ea68": {
          "model_module": "@jupyter-widgets/base",
          "model_module_version": "1.2.0",
          "model_name": "LayoutModel",
          "state": {
            "_model_module": "@jupyter-widgets/base",
            "_model_module_version": "1.2.0",
            "_model_name": "LayoutModel",
            "_view_count": null,
            "_view_module": "@jupyter-widgets/base",
            "_view_module_version": "1.2.0",
            "_view_name": "LayoutView",
            "align_content": null,
            "align_items": null,
            "align_self": null,
            "border": null,
            "bottom": null,
            "display": null,
            "flex": null,
            "flex_flow": null,
            "grid_area": null,
            "grid_auto_columns": null,
            "grid_auto_flow": null,
            "grid_auto_rows": null,
            "grid_column": null,
            "grid_gap": null,
            "grid_row": null,
            "grid_template_areas": null,
            "grid_template_columns": null,
            "grid_template_rows": null,
            "height": null,
            "justify_content": null,
            "justify_items": null,
            "left": null,
            "margin": null,
            "max_height": null,
            "max_width": null,
            "min_height": null,
            "min_width": null,
            "object_fit": null,
            "object_position": null,
            "order": null,
            "overflow": null,
            "overflow_x": null,
            "overflow_y": null,
            "padding": null,
            "right": null,
            "top": null,
            "visibility": null,
            "width": null
          }
        },
        "f1830ce212fb484d8fb916d28b02c8bc": {
          "model_module": "@jupyter-widgets/base",
          "model_module_version": "1.2.0",
          "model_name": "LayoutModel",
          "state": {
            "_model_module": "@jupyter-widgets/base",
            "_model_module_version": "1.2.0",
            "_model_name": "LayoutModel",
            "_view_count": null,
            "_view_module": "@jupyter-widgets/base",
            "_view_module_version": "1.2.0",
            "_view_name": "LayoutView",
            "align_content": null,
            "align_items": null,
            "align_self": null,
            "border": null,
            "bottom": null,
            "display": null,
            "flex": null,
            "flex_flow": null,
            "grid_area": null,
            "grid_auto_columns": null,
            "grid_auto_flow": null,
            "grid_auto_rows": null,
            "grid_column": null,
            "grid_gap": null,
            "grid_row": null,
            "grid_template_areas": null,
            "grid_template_columns": null,
            "grid_template_rows": null,
            "height": null,
            "justify_content": null,
            "justify_items": null,
            "left": null,
            "margin": null,
            "max_height": null,
            "max_width": null,
            "min_height": null,
            "min_width": null,
            "object_fit": null,
            "object_position": null,
            "order": null,
            "overflow": null,
            "overflow_x": null,
            "overflow_y": null,
            "padding": null,
            "right": null,
            "top": null,
            "visibility": null,
            "width": null
          }
        },
        "f746fef048934c7aac8d2fe357291445": {
          "model_module": "@jupyter-widgets/controls",
          "model_module_version": "1.5.0",
          "model_name": "ProgressStyleModel",
          "state": {
            "_model_module": "@jupyter-widgets/controls",
            "_model_module_version": "1.5.0",
            "_model_name": "ProgressStyleModel",
            "_view_count": null,
            "_view_module": "@jupyter-widgets/base",
            "_view_module_version": "1.2.0",
            "_view_name": "StyleView",
            "bar_color": null,
            "description_width": ""
          }
        },
        "f879af1c077249d09b1c99f9660d2d04": {
          "model_module": "@jupyter-widgets/controls",
          "model_module_version": "1.5.0",
          "model_name": "DescriptionStyleModel",
          "state": {
            "_model_module": "@jupyter-widgets/controls",
            "_model_module_version": "1.5.0",
            "_model_name": "DescriptionStyleModel",
            "_view_count": null,
            "_view_module": "@jupyter-widgets/base",
            "_view_module_version": "1.2.0",
            "_view_name": "StyleView",
            "description_width": ""
          }
        },
        "f8d232f3060f4b8d85c9df2fa1b180d3": {
          "model_module": "@jupyter-widgets/base",
          "model_module_version": "1.2.0",
          "model_name": "LayoutModel",
          "state": {
            "_model_module": "@jupyter-widgets/base",
            "_model_module_version": "1.2.0",
            "_model_name": "LayoutModel",
            "_view_count": null,
            "_view_module": "@jupyter-widgets/base",
            "_view_module_version": "1.2.0",
            "_view_name": "LayoutView",
            "align_content": null,
            "align_items": null,
            "align_self": null,
            "border": null,
            "bottom": null,
            "display": null,
            "flex": null,
            "flex_flow": null,
            "grid_area": null,
            "grid_auto_columns": null,
            "grid_auto_flow": null,
            "grid_auto_rows": null,
            "grid_column": null,
            "grid_gap": null,
            "grid_row": null,
            "grid_template_areas": null,
            "grid_template_columns": null,
            "grid_template_rows": null,
            "height": null,
            "justify_content": null,
            "justify_items": null,
            "left": null,
            "margin": null,
            "max_height": null,
            "max_width": null,
            "min_height": null,
            "min_width": null,
            "object_fit": null,
            "object_position": null,
            "order": null,
            "overflow": null,
            "overflow_x": null,
            "overflow_y": null,
            "padding": null,
            "right": null,
            "top": null,
            "visibility": null,
            "width": null
          }
        },
        "f982cb8ababa4003b5bd81aaea7922d9": {
          "model_module": "@jupyter-widgets/controls",
          "model_module_version": "1.5.0",
          "model_name": "HTMLModel",
          "state": {
            "_dom_classes": [],
            "_model_module": "@jupyter-widgets/controls",
            "_model_module_version": "1.5.0",
            "_model_name": "HTMLModel",
            "_view_count": null,
            "_view_module": "@jupyter-widgets/controls",
            "_view_module_version": "1.5.0",
            "_view_name": "HTMLView",
            "description": "",
            "description_tooltip": null,
            "layout": "IPY_MODEL_8fd93fe9dd4c42d2b20f72be6409c35b",
            "placeholder": "​",
            "style": "IPY_MODEL_37f2105d431a4328b7b07851a2a4be53",
            "value": "tokenizer.json: 100%"
          }
        },
        "fb55cfa6354544bfb7aa7f8113d8d5d4": {
          "model_module": "@jupyter-widgets/controls",
          "model_module_version": "1.5.0",
          "model_name": "HBoxModel",
          "state": {
            "_dom_classes": [],
            "_model_module": "@jupyter-widgets/controls",
            "_model_module_version": "1.5.0",
            "_model_name": "HBoxModel",
            "_view_count": null,
            "_view_module": "@jupyter-widgets/controls",
            "_view_module_version": "1.5.0",
            "_view_name": "HBoxView",
            "box_style": "",
            "children": [
              "IPY_MODEL_87760744428b43899e91b947190a3eca",
              "IPY_MODEL_82c1f1a037994ed88fae867dd1b39c33",
              "IPY_MODEL_2bcfb87bb71c4a1d9060aba6fe844cc6"
            ],
            "layout": "IPY_MODEL_f1830ce212fb484d8fb916d28b02c8bc"
          }
        }
      }
    }
  },
  "nbformat": 4,
  "nbformat_minor": 0
}